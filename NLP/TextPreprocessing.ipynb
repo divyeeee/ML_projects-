{
 "cells": [
  {
   "cell_type": "code",
   "execution_count": 15,
   "metadata": {},
   "outputs": [],
   "source": [
    "import requests\n",
    "import json\n",
    "import pandas as pd\n",
    "import re\n",
    "\n",
    "\n"
   ]
  },
  {
   "cell_type": "code",
   "execution_count": null,
   "metadata": {},
   "outputs": [],
   "source": [
    "def fetch_and_save_json(url: str, file_path: str):\n",
    "    \"\"\"\n",
    "    Purpose:\n",
    "    ---\n",
    "    Fetch a JSON file from a URL and save it locally.\n",
    "\n",
    "    Input Arguments:\n",
    "    ---\n",
    "    `url` : [ str ]\n",
    "        URL of the JSON file to fetch.\n",
    "\n",
    "    `file_path` : [ str ]\n",
    "        Path of the file to save the JSON data.\n",
    "\n",
    "    Returns:\n",
    "    ---\n",
    "    None\n",
    "    \"\"\"\n",
    "    try:\n",
    "        # Fetch the JSON file from the URL\n",
    "        response = requests.get(url)\n",
    "        response.raise_for_status()  # Raise an error for bad status codes\n",
    "\n",
    "        # Parse JSON content\n",
    "        json_data = response.json()\n",
    "\n",
    "        # Save JSON data to a file\n",
    "        with open(file_path, 'a') as file:\n",
    "            results=json_data.get('results')\n",
    "            for movies in results:\n",
    "                json.dump(movies, file, indent=4)\n",
    "                file.write(',')\n",
    "            \n",
    "        print(f\"JSON data successfully written to {file_path}\")\n",
    "\n",
    "    except requests.exceptions.RequestException as e:\n",
    "        print(f\"Error fetching JSON file: {e}\")\n",
    "    except json.JSONDecodeError as e:\n",
    "        print(f\"Error decoding JSON content: {e}\")\n",
    "    except Exception as e:\n",
    "        print(f\"An unexpected error occurred: {e}\")\n",
    "\n",
    "# Example Usage\n",
    "\n",
    "file_path = \"data.json\"\n",
    "for i in range(1,496,1):\n",
    "    url = f\"https://api.themoviedb.org/3/movie/top_rated?api_key=8265bd1679663a7ea12ac168da84d2e8&language=en-US&page={i}\"  # Replace with your JSON URL\n",
    "    print(i)\n",
    "    fetch_and_save_json(url, file_path)\n"
   ]
  },
  {
   "cell_type": "code",
   "execution_count": 132,
   "metadata": {},
   "outputs": [],
   "source": [
    "\n",
    "\n",
    "def sort_json_file(input_file: str, output_file: str) -> None:\n",
    "    tags=['title','overview','genre_ids']\n",
    "    \"\"\"\n",
    "    Purpose:\n",
    "    ---\n",
    "    Sort the contents of a JSON file by its keys and save the sorted output to a new file.\n",
    "\n",
    "    Input Arguments:\n",
    "    ---\n",
    "    `input_file` : [ str ]\n",
    "        Path to the input JSON file.\n",
    "\n",
    "    `output_file` : [ str ]\n",
    "        Path to save the sorted JSON file.\n",
    "\n",
    "    Returns:\n",
    "    ---\n",
    "    None\n",
    "\n",
    "    Example call:\n",
    "    ---\n",
    "    sort_json_file(\"input.json\", \"sorted_output.json\")\n",
    "    \"\"\"\n",
    "    try:\n",
    "        # Read the JSON file\n",
    "        with open(input_file, 'r') as file:\n",
    "            data = json.load(file)\n",
    "\n",
    "        # Sort the JSON data\n",
    "        results=data.get('results',[])\n",
    "        print(results)\n",
    "        extracted_data = [\n",
    "            {tag: movie.get(tag) for tag in tags}\n",
    "            for movie in results\n",
    "        ]\n",
    "        print(extracted_data)\n",
    "        # Write the sorted JSON to the output file\n",
    "        with open(output_file, 'w') as file:\n",
    "            for serial,movie in enumerate(extracted_data):\n",
    "                file.write(f\"{serial+1}.\\t\")\n",
    "                for tag in tags:\n",
    "                    if(tag!='genre_ids'):\n",
    "                        file.write(movie[tag]+'||')\n",
    "                    else:\n",
    "                        file.write('\\t'.join(map(str,movie[tag]))+'\\n')         \n",
    "\n",
    "        print(f\"Sorted JSON saved to {output_file}\")\n",
    "\n",
    "    except FileNotFoundError:\n",
    "        print(f\"Error: The file '{input_file}' was not found.\")\n",
    "    except json.JSONDecodeError:\n",
    "        print(f\"Error: The file '{input_file}' is not a valid JSON file.\")\n",
    "    except Exception as e:\n",
    "        print(f\"An unexpected error occurred: {e}\")\n",
    "\n",
    "# Example usage\n",
    "# sort_json_file(\"input.json\", \"sorted_output.json\")"
   ]
  },
  {
   "cell_type": "code",
   "execution_count": 5,
   "metadata": {},
   "outputs": [
    {
     "ename": "NameError",
     "evalue": "name 'sort_json_file' is not defined",
     "output_type": "error",
     "traceback": [
      "\u001b[1;31m---------------------------------------------------------------------------\u001b[0m",
      "\u001b[1;31mNameError\u001b[0m                                 Traceback (most recent call last)",
      "Cell \u001b[1;32mIn[5], line 1\u001b[0m\n\u001b[1;32m----> 1\u001b[0m \u001b[43msort_json_file\u001b[49m(input_file\u001b[38;5;241m=\u001b[39m\u001b[38;5;124m'\u001b[39m\u001b[38;5;124mdata.json\u001b[39m\u001b[38;5;124m'\u001b[39m,output_file\u001b[38;5;241m=\u001b[39m\u001b[38;5;124m'\u001b[39m\u001b[38;5;124msortedata.txt\u001b[39m\u001b[38;5;124m'\u001b[39m)\n",
      "\u001b[1;31mNameError\u001b[0m: name 'sort_json_file' is not defined"
     ]
    }
   ],
   "source": [
    "sort_json_file(input_file='data.json',output_file='sortedata.txt')"
   ]
  },
  {
   "cell_type": "code",
   "execution_count": 3,
   "metadata": {},
   "outputs": [
    {
     "name": "stdout",
     "output_type": "stream",
     "text": [
      "['data.json', 'sortedata.data', 'TextPreprocessing.ipynb']\n"
     ]
    }
   ],
   "source": [
    "import os\n",
    "print(os.listdir(r'C:\\Users\\divye\\OneDrive\\Desktop\\Project\\ML\\NLP'))"
   ]
  },
  {
   "cell_type": "code",
   "execution_count": 59,
   "metadata": {},
   "outputs": [
    {
     "name": "stderr",
     "output_type": "stream",
     "text": [
      "C:\\Users\\divye\\AppData\\Local\\Temp\\ipykernel_22540\\482449516.py:1: ParserWarning: Falling back to the 'python' engine because the 'c' engine does not support regex separators (separators > 1 char and different from '\\s+' are interpreted as regex); you can avoid this warning by specifying engine='python'.\n",
      "  df=pd.read_csv(r'C:\\Users\\divye\\OneDrive\\Desktop\\Project\\ML\\NLP\\sortedata.data',header=None, names=['Movie titles','Description','Genre_Ids'],sep=\"\\\\|\\\\|\")\n"
     ]
    },
    {
     "data": {
      "text/html": [
       "<div>\n",
       "<style scoped>\n",
       "    .dataframe tbody tr th:only-of-type {\n",
       "        vertical-align: middle;\n",
       "    }\n",
       "\n",
       "    .dataframe tbody tr th {\n",
       "        vertical-align: top;\n",
       "    }\n",
       "\n",
       "    .dataframe thead th {\n",
       "        text-align: right;\n",
       "    }\n",
       "</style>\n",
       "<table border=\"1\" class=\"dataframe\">\n",
       "  <thead>\n",
       "    <tr style=\"text-align: right;\">\n",
       "      <th></th>\n",
       "      <th>Movie titles</th>\n",
       "      <th>Description</th>\n",
       "      <th>Genre_Ids</th>\n",
       "    </tr>\n",
       "  </thead>\n",
       "  <tbody>\n",
       "    <tr>\n",
       "      <th>0</th>\n",
       "      <td>1.\\tThe Shawshank Redemption</td>\n",
       "      <td>Imprisoned in the 1940s for the double murder ...</td>\n",
       "      <td>18\\t80</td>\n",
       "    </tr>\n",
       "    <tr>\n",
       "      <th>1</th>\n",
       "      <td>2.\\tThe Godfather</td>\n",
       "      <td>Spanning the years 1945 to 1955, a chronicle o...</td>\n",
       "      <td>18\\t80</td>\n",
       "    </tr>\n",
       "    <tr>\n",
       "      <th>2</th>\n",
       "      <td>3.\\tThe Godfather Part 2</td>\n",
       "      <td>In the continuing saga of the Corleone crime f...</td>\n",
       "      <td>18\\t80</td>\n",
       "    </tr>\n",
       "    <tr>\n",
       "      <th>3</th>\n",
       "      <td>4.\\tSchindler's List</td>\n",
       "      <td>The true story of how businessman Oskar Schind...</td>\n",
       "      <td>18\\t36\\t10752</td>\n",
       "    </tr>\n",
       "    <tr>\n",
       "      <th>4</th>\n",
       "      <td>5.\\t12 Angry Men</td>\n",
       "      <td>The defense and the prosecution have rested an...</td>\n",
       "      <td>18</td>\n",
       "    </tr>\n",
       "  </tbody>\n",
       "</table>\n",
       "</div>"
      ],
      "text/plain": [
       "                   Movie titles  \\\n",
       "0  1.\\tThe Shawshank Redemption   \n",
       "1             2.\\tThe Godfather   \n",
       "2      3.\\tThe Godfather Part 2   \n",
       "3          4.\\tSchindler's List   \n",
       "4              5.\\t12 Angry Men   \n",
       "\n",
       "                                         Description      Genre_Ids  \n",
       "0  Imprisoned in the 1940s for the double murder ...         18\\t80  \n",
       "1  Spanning the years 1945 to 1955, a chronicle o...         18\\t80  \n",
       "2  In the continuing saga of the Corleone crime f...         18\\t80  \n",
       "3  The true story of how businessman Oskar Schind...  18\\t36\\t10752  \n",
       "4  The defense and the prosecution have rested an...             18  "
      ]
     },
     "execution_count": 59,
     "metadata": {},
     "output_type": "execute_result"
    }
   ],
   "source": [
    "df=pd.read_csv(r'C:\\Users\\divye\\OneDrive\\Desktop\\Project\\ML\\NLP\\sortedata.data',header=None, names=['Movie titles','Description','Genre_Ids'],sep=\"\\\\|\\\\|\")\n",
    "df.head(5)"
   ]
  },
  {
   "cell_type": "code",
   "execution_count": null,
   "metadata": {},
   "outputs": [],
   "source": [
    "# First we will lowercase, remove punctuations, then we will remove the stop words.\\\n",
    "# After above process, we will do tokenization, stemming and then lemitization."
   ]
  },
  {
   "cell_type": "code",
   "execution_count": 65,
   "metadata": {},
   "outputs": [
    {
     "data": {
      "text/html": [
       "<div>\n",
       "<style scoped>\n",
       "    .dataframe tbody tr th:only-of-type {\n",
       "        vertical-align: middle;\n",
       "    }\n",
       "\n",
       "    .dataframe tbody tr th {\n",
       "        vertical-align: top;\n",
       "    }\n",
       "\n",
       "    .dataframe thead th {\n",
       "        text-align: right;\n",
       "    }\n",
       "</style>\n",
       "<table border=\"1\" class=\"dataframe\">\n",
       "  <thead>\n",
       "    <tr style=\"text-align: right;\">\n",
       "      <th></th>\n",
       "      <th>Movie titles</th>\n",
       "      <th>Description</th>\n",
       "      <th>Genre_Ids</th>\n",
       "    </tr>\n",
       "  </thead>\n",
       "  <tbody>\n",
       "    <tr>\n",
       "      <th>0</th>\n",
       "      <td>The Shawshank Redemption</td>\n",
       "      <td>Imprisoned in the 1940s for the double murder ...</td>\n",
       "      <td>18\\t80</td>\n",
       "    </tr>\n",
       "    <tr>\n",
       "      <th>1</th>\n",
       "      <td>The Godfather</td>\n",
       "      <td>Spanning the years 1945 to 1955, a chronicle o...</td>\n",
       "      <td>18\\t80</td>\n",
       "    </tr>\n",
       "    <tr>\n",
       "      <th>2</th>\n",
       "      <td>The Godfather Part 2</td>\n",
       "      <td>In the continuing saga of the Corleone crime f...</td>\n",
       "      <td>18\\t80</td>\n",
       "    </tr>\n",
       "    <tr>\n",
       "      <th>3</th>\n",
       "      <td>Schindler's List</td>\n",
       "      <td>The true story of how businessman Oskar Schind...</td>\n",
       "      <td>18\\t36\\t10752</td>\n",
       "    </tr>\n",
       "    <tr>\n",
       "      <th>4</th>\n",
       "      <td>Angry Men</td>\n",
       "      <td>The defense and the prosecution have rested an...</td>\n",
       "      <td>18</td>\n",
       "    </tr>\n",
       "  </tbody>\n",
       "</table>\n",
       "</div>"
      ],
      "text/plain": [
       "               Movie titles  \\\n",
       "0  The Shawshank Redemption   \n",
       "1             The Godfather   \n",
       "2      The Godfather Part 2   \n",
       "3          Schindler's List   \n",
       "4                 Angry Men   \n",
       "\n",
       "                                         Description      Genre_Ids  \n",
       "0  Imprisoned in the 1940s for the double murder ...         18\\t80  \n",
       "1  Spanning the years 1945 to 1955, a chronicle o...         18\\t80  \n",
       "2  In the continuing saga of the Corleone crime f...         18\\t80  \n",
       "3  The true story of how businessman Oskar Schind...  18\\t36\\t10752  \n",
       "4  The defense and the prosecution have rested an...             18  "
      ]
     },
     "execution_count": 65,
     "metadata": {},
     "output_type": "execute_result"
    }
   ],
   "source": [
    "df['Movie titles']=df['Movie titles'].apply(lambda x:re.sub(r'\\d\\.\\t','',x))\n",
    "df.head(5)"
   ]
  },
  {
   "cell_type": "code",
   "execution_count": 66,
   "metadata": {},
   "outputs": [
    {
     "data": {
      "text/html": [
       "<div>\n",
       "<style scoped>\n",
       "    .dataframe tbody tr th:only-of-type {\n",
       "        vertical-align: middle;\n",
       "    }\n",
       "\n",
       "    .dataframe tbody tr th {\n",
       "        vertical-align: top;\n",
       "    }\n",
       "\n",
       "    .dataframe thead th {\n",
       "        text-align: right;\n",
       "    }\n",
       "</style>\n",
       "<table border=\"1\" class=\"dataframe\">\n",
       "  <thead>\n",
       "    <tr style=\"text-align: right;\">\n",
       "      <th></th>\n",
       "      <th>Movie titles</th>\n",
       "      <th>Description</th>\n",
       "      <th>Genre_Ids</th>\n",
       "    </tr>\n",
       "  </thead>\n",
       "  <tbody>\n",
       "    <tr>\n",
       "      <th>0</th>\n",
       "      <td>The Shawshank Redemption</td>\n",
       "      <td>imprisoned in the 1940s for the double murder ...</td>\n",
       "      <td>18\\t80</td>\n",
       "    </tr>\n",
       "    <tr>\n",
       "      <th>1</th>\n",
       "      <td>The Godfather</td>\n",
       "      <td>spanning the years 1945 to 1955, a chronicle o...</td>\n",
       "      <td>18\\t80</td>\n",
       "    </tr>\n",
       "    <tr>\n",
       "      <th>2</th>\n",
       "      <td>The Godfather Part 2</td>\n",
       "      <td>in the continuing saga of the corleone crime f...</td>\n",
       "      <td>18\\t80</td>\n",
       "    </tr>\n",
       "    <tr>\n",
       "      <th>3</th>\n",
       "      <td>Schindler's List</td>\n",
       "      <td>the true story of how businessman oskar schind...</td>\n",
       "      <td>18\\t36\\t10752</td>\n",
       "    </tr>\n",
       "    <tr>\n",
       "      <th>4</th>\n",
       "      <td>Angry Men</td>\n",
       "      <td>the defense and the prosecution have rested an...</td>\n",
       "      <td>18</td>\n",
       "    </tr>\n",
       "  </tbody>\n",
       "</table>\n",
       "</div>"
      ],
      "text/plain": [
       "               Movie titles  \\\n",
       "0  The Shawshank Redemption   \n",
       "1             The Godfather   \n",
       "2      The Godfather Part 2   \n",
       "3          Schindler's List   \n",
       "4                 Angry Men   \n",
       "\n",
       "                                         Description      Genre_Ids  \n",
       "0  imprisoned in the 1940s for the double murder ...         18\\t80  \n",
       "1  spanning the years 1945 to 1955, a chronicle o...         18\\t80  \n",
       "2  in the continuing saga of the corleone crime f...         18\\t80  \n",
       "3  the true story of how businessman oskar schind...  18\\t36\\t10752  \n",
       "4  the defense and the prosecution have rested an...             18  "
      ]
     },
     "execution_count": 66,
     "metadata": {},
     "output_type": "execute_result"
    }
   ],
   "source": [
    "df['Description']=df['Description'].apply(lambda x: x.lower() if isinstance(x,str) else x)\n",
    "df.head(5)"
   ]
  },
  {
   "cell_type": "code",
   "execution_count": 73,
   "metadata": {},
   "outputs": [
    {
     "ename": "TypeError",
     "evalue": "expected string or bytes-like object",
     "output_type": "error",
     "traceback": [
      "\u001b[1;31m---------------------------------------------------------------------------\u001b[0m",
      "\u001b[1;31mTypeError\u001b[0m                                 Traceback (most recent call last)",
      "Cell \u001b[1;32mIn[73], line 3\u001b[0m\n\u001b[0;32m      1\u001b[0m genres\u001b[38;5;241m=\u001b[39m{\u001b[38;5;124m'\u001b[39m\u001b[38;5;124maction\u001b[39m\u001b[38;5;124m'\u001b[39m:\u001b[38;5;241m28\u001b[39m,\u001b[38;5;124m'\u001b[39m\u001b[38;5;124madventure\u001b[39m\u001b[38;5;124m'\u001b[39m:\u001b[38;5;241m12\u001b[39m,\u001b[38;5;124m'\u001b[39m\u001b[38;5;124manimation\u001b[39m\u001b[38;5;124m'\u001b[39m:\u001b[38;5;241m16\u001b[39m,\u001b[38;5;124m'\u001b[39m\u001b[38;5;124mcomedy\u001b[39m\u001b[38;5;124m'\u001b[39m:\u001b[38;5;241m35\u001b[39m,\u001b[38;5;124m'\u001b[39m\u001b[38;5;124mcrime\u001b[39m\u001b[38;5;124m'\u001b[39m:\u001b[38;5;241m80\u001b[39m,\u001b[38;5;124m'\u001b[39m\u001b[38;5;124mdocumnetry\u001b[39m\u001b[38;5;124m'\u001b[39m:\u001b[38;5;241m99\u001b[39m,\u001b[38;5;124m'\u001b[39m\u001b[38;5;124mdrama\u001b[39m\u001b[38;5;124m'\u001b[39m:\u001b[38;5;241m18\u001b[39m,\u001b[38;5;124m'\u001b[39m\u001b[38;5;124mfamily\u001b[39m\u001b[38;5;124m'\u001b[39m:\u001b[38;5;241m17051\u001b[39m,\u001b[38;5;124m'\u001b[39m\u001b[38;5;124mfantasy\u001b[39m\u001b[38;5;124m'\u001b[39m:\u001b[38;5;241m14\u001b[39m,\u001b[38;5;124m'\u001b[39m\u001b[38;5;124mhistory\u001b[39m\u001b[38;5;124m'\u001b[39m:\u001b[38;5;241m36\u001b[39m,\n\u001b[0;32m      2\u001b[0m \u001b[38;5;124m'\u001b[39m\u001b[38;5;124mhorror\u001b[39m\u001b[38;5;124m'\u001b[39m:\u001b[38;5;241m27\u001b[39m,\u001b[38;5;124m'\u001b[39m\u001b[38;5;124mmusic\u001b[39m\u001b[38;5;124m'\u001b[39m:\u001b[38;5;241m10402\u001b[39m,\u001b[38;5;124m'\u001b[39m\u001b[38;5;124mmystery\u001b[39m\u001b[38;5;124m'\u001b[39m:\u001b[38;5;241m9648\u001b[39m,\u001b[38;5;124m'\u001b[39m\u001b[38;5;124mromance\u001b[39m\u001b[38;5;124m'\u001b[39m:\u001b[38;5;241m10749\u001b[39m,\u001b[38;5;124m'\u001b[39m\u001b[38;5;124mscinece fiction\u001b[39m\u001b[38;5;124m'\u001b[39m:\u001b[38;5;241m878\u001b[39m,\u001b[38;5;124m'\u001b[39m\u001b[38;5;124mtv movie\u001b[39m\u001b[38;5;124m'\u001b[39m:\u001b[38;5;241m10770\u001b[39m,\u001b[38;5;124m'\u001b[39m\u001b[38;5;124mthriller\u001b[39m\u001b[38;5;124m'\u001b[39m:\u001b[38;5;241m53\u001b[39m,\u001b[38;5;124m'\u001b[39m\u001b[38;5;124mwar\u001b[39m\u001b[38;5;124m'\u001b[39m:\u001b[38;5;241m10752\u001b[39m,\u001b[38;5;124m'\u001b[39m\u001b[38;5;124mwestern\u001b[39m\u001b[38;5;124m'\u001b[39m:\u001b[38;5;241m37\u001b[39m}\n\u001b[1;32m----> 3\u001b[0m df[\u001b[38;5;124m'\u001b[39m\u001b[38;5;124mGenre_Ids\u001b[39m\u001b[38;5;124m'\u001b[39m]\u001b[38;5;241m=\u001b[39m\u001b[43mdf\u001b[49m\u001b[43m[\u001b[49m\u001b[38;5;124;43m'\u001b[39;49m\u001b[38;5;124;43mGenre_Ids\u001b[39;49m\u001b[38;5;124;43m'\u001b[39;49m\u001b[43m]\u001b[49m\u001b[38;5;241;43m.\u001b[39;49m\u001b[43mapply\u001b[49m\u001b[43m(\u001b[49m\u001b[38;5;28;43;01mlambda\u001b[39;49;00m\u001b[43m \u001b[49m\u001b[43mx\u001b[49m\u001b[43m:\u001b[49m\u001b[43m \u001b[49m\u001b[43mre\u001b[49m\u001b[38;5;241;43m.\u001b[39;49m\u001b[43msub\u001b[49m\u001b[43m(\u001b[49m\u001b[38;5;124;43mr\u001b[39;49m\u001b[38;5;124;43m'\u001b[39;49m\u001b[38;5;124;43m(\u001b[39;49m\u001b[38;5;124;43m\\\u001b[39;49m\u001b[38;5;124;43md)\u001b[39;49m\u001b[38;5;124;43m\\\u001b[39;49m\u001b[38;5;124;43ms*(\u001b[39;49m\u001b[38;5;124;43m\\\u001b[39;49m\u001b[38;5;124;43md)\u001b[39;49m\u001b[38;5;124;43m'\u001b[39;49m\u001b[43m,\u001b[49m\u001b[43m \u001b[49m\u001b[38;5;124;43mr\u001b[39;49m\u001b[38;5;124;43m'\u001b[39;49m\u001b[38;5;124;43m\\\u001b[39;49m\u001b[38;5;124;43m1 \u001b[39;49m\u001b[38;5;124;43m\\\u001b[39;49m\u001b[38;5;124;43m2\u001b[39;49m\u001b[38;5;124;43m'\u001b[39;49m\u001b[43m,\u001b[49m\u001b[43m \u001b[49m\u001b[43mx\u001b[49m\u001b[43m)\u001b[49m\u001b[43m)\u001b[49m\n\u001b[0;32m      4\u001b[0m df\u001b[38;5;241m.\u001b[39mhead(\u001b[38;5;241m5\u001b[39m)\n",
      "File \u001b[1;32mc:\\Users\\divye\\miniconda3\\envs\\Recommender_system\\lib\\site-packages\\pandas\\core\\series.py:4917\u001b[0m, in \u001b[0;36mSeries.apply\u001b[1;34m(self, func, convert_dtype, args, by_row, **kwargs)\u001b[0m\n\u001b[0;32m   4789\u001b[0m \u001b[38;5;28;01mdef\u001b[39;00m \u001b[38;5;21mapply\u001b[39m(\n\u001b[0;32m   4790\u001b[0m     \u001b[38;5;28mself\u001b[39m,\n\u001b[0;32m   4791\u001b[0m     func: AggFuncType,\n\u001b[1;32m   (...)\u001b[0m\n\u001b[0;32m   4796\u001b[0m     \u001b[38;5;241m*\u001b[39m\u001b[38;5;241m*\u001b[39mkwargs,\n\u001b[0;32m   4797\u001b[0m ) \u001b[38;5;241m-\u001b[39m\u001b[38;5;241m>\u001b[39m DataFrame \u001b[38;5;241m|\u001b[39m Series:\n\u001b[0;32m   4798\u001b[0m \u001b[38;5;250m    \u001b[39m\u001b[38;5;124;03m\"\"\"\u001b[39;00m\n\u001b[0;32m   4799\u001b[0m \u001b[38;5;124;03m    Invoke function on values of Series.\u001b[39;00m\n\u001b[0;32m   4800\u001b[0m \n\u001b[1;32m   (...)\u001b[0m\n\u001b[0;32m   4915\u001b[0m \u001b[38;5;124;03m    dtype: float64\u001b[39;00m\n\u001b[0;32m   4916\u001b[0m \u001b[38;5;124;03m    \"\"\"\u001b[39;00m\n\u001b[1;32m-> 4917\u001b[0m     \u001b[38;5;28;01mreturn\u001b[39;00m \u001b[43mSeriesApply\u001b[49m\u001b[43m(\u001b[49m\n\u001b[0;32m   4918\u001b[0m \u001b[43m        \u001b[49m\u001b[38;5;28;43mself\u001b[39;49m\u001b[43m,\u001b[49m\n\u001b[0;32m   4919\u001b[0m \u001b[43m        \u001b[49m\u001b[43mfunc\u001b[49m\u001b[43m,\u001b[49m\n\u001b[0;32m   4920\u001b[0m \u001b[43m        \u001b[49m\u001b[43mconvert_dtype\u001b[49m\u001b[38;5;241;43m=\u001b[39;49m\u001b[43mconvert_dtype\u001b[49m\u001b[43m,\u001b[49m\n\u001b[0;32m   4921\u001b[0m \u001b[43m        \u001b[49m\u001b[43mby_row\u001b[49m\u001b[38;5;241;43m=\u001b[39;49m\u001b[43mby_row\u001b[49m\u001b[43m,\u001b[49m\n\u001b[0;32m   4922\u001b[0m \u001b[43m        \u001b[49m\u001b[43margs\u001b[49m\u001b[38;5;241;43m=\u001b[39;49m\u001b[43margs\u001b[49m\u001b[43m,\u001b[49m\n\u001b[0;32m   4923\u001b[0m \u001b[43m        \u001b[49m\u001b[43mkwargs\u001b[49m\u001b[38;5;241;43m=\u001b[39;49m\u001b[43mkwargs\u001b[49m\u001b[43m,\u001b[49m\n\u001b[0;32m   4924\u001b[0m \u001b[43m    \u001b[49m\u001b[43m)\u001b[49m\u001b[38;5;241;43m.\u001b[39;49m\u001b[43mapply\u001b[49m\u001b[43m(\u001b[49m\u001b[43m)\u001b[49m\n",
      "File \u001b[1;32mc:\\Users\\divye\\miniconda3\\envs\\Recommender_system\\lib\\site-packages\\pandas\\core\\apply.py:1427\u001b[0m, in \u001b[0;36mSeriesApply.apply\u001b[1;34m(self)\u001b[0m\n\u001b[0;32m   1424\u001b[0m     \u001b[38;5;28;01mreturn\u001b[39;00m \u001b[38;5;28mself\u001b[39m\u001b[38;5;241m.\u001b[39mapply_compat()\n\u001b[0;32m   1426\u001b[0m \u001b[38;5;66;03m# self.func is Callable\u001b[39;00m\n\u001b[1;32m-> 1427\u001b[0m \u001b[38;5;28;01mreturn\u001b[39;00m \u001b[38;5;28;43mself\u001b[39;49m\u001b[38;5;241;43m.\u001b[39;49m\u001b[43mapply_standard\u001b[49m\u001b[43m(\u001b[49m\u001b[43m)\u001b[49m\n",
      "File \u001b[1;32mc:\\Users\\divye\\miniconda3\\envs\\Recommender_system\\lib\\site-packages\\pandas\\core\\apply.py:1507\u001b[0m, in \u001b[0;36mSeriesApply.apply_standard\u001b[1;34m(self)\u001b[0m\n\u001b[0;32m   1501\u001b[0m \u001b[38;5;66;03m# row-wise access\u001b[39;00m\n\u001b[0;32m   1502\u001b[0m \u001b[38;5;66;03m# apply doesn't have a `na_action` keyword and for backward compat reasons\u001b[39;00m\n\u001b[0;32m   1503\u001b[0m \u001b[38;5;66;03m# we need to give `na_action=\"ignore\"` for categorical data.\u001b[39;00m\n\u001b[0;32m   1504\u001b[0m \u001b[38;5;66;03m# TODO: remove the `na_action=\"ignore\"` when that default has been changed in\u001b[39;00m\n\u001b[0;32m   1505\u001b[0m \u001b[38;5;66;03m#  Categorical (GH51645).\u001b[39;00m\n\u001b[0;32m   1506\u001b[0m action \u001b[38;5;241m=\u001b[39m \u001b[38;5;124m\"\u001b[39m\u001b[38;5;124mignore\u001b[39m\u001b[38;5;124m\"\u001b[39m \u001b[38;5;28;01mif\u001b[39;00m \u001b[38;5;28misinstance\u001b[39m(obj\u001b[38;5;241m.\u001b[39mdtype, CategoricalDtype) \u001b[38;5;28;01melse\u001b[39;00m \u001b[38;5;28;01mNone\u001b[39;00m\n\u001b[1;32m-> 1507\u001b[0m mapped \u001b[38;5;241m=\u001b[39m \u001b[43mobj\u001b[49m\u001b[38;5;241;43m.\u001b[39;49m\u001b[43m_map_values\u001b[49m\u001b[43m(\u001b[49m\n\u001b[0;32m   1508\u001b[0m \u001b[43m    \u001b[49m\u001b[43mmapper\u001b[49m\u001b[38;5;241;43m=\u001b[39;49m\u001b[43mcurried\u001b[49m\u001b[43m,\u001b[49m\u001b[43m \u001b[49m\u001b[43mna_action\u001b[49m\u001b[38;5;241;43m=\u001b[39;49m\u001b[43maction\u001b[49m\u001b[43m,\u001b[49m\u001b[43m \u001b[49m\u001b[43mconvert\u001b[49m\u001b[38;5;241;43m=\u001b[39;49m\u001b[38;5;28;43mself\u001b[39;49m\u001b[38;5;241;43m.\u001b[39;49m\u001b[43mconvert_dtype\u001b[49m\n\u001b[0;32m   1509\u001b[0m \u001b[43m\u001b[49m\u001b[43m)\u001b[49m\n\u001b[0;32m   1511\u001b[0m \u001b[38;5;28;01mif\u001b[39;00m \u001b[38;5;28mlen\u001b[39m(mapped) \u001b[38;5;129;01mand\u001b[39;00m \u001b[38;5;28misinstance\u001b[39m(mapped[\u001b[38;5;241m0\u001b[39m], ABCSeries):\n\u001b[0;32m   1512\u001b[0m     \u001b[38;5;66;03m# GH#43986 Need to do list(mapped) in order to get treated as nested\u001b[39;00m\n\u001b[0;32m   1513\u001b[0m     \u001b[38;5;66;03m#  See also GH#25959 regarding EA support\u001b[39;00m\n\u001b[0;32m   1514\u001b[0m     \u001b[38;5;28;01mreturn\u001b[39;00m obj\u001b[38;5;241m.\u001b[39m_constructor_expanddim(\u001b[38;5;28mlist\u001b[39m(mapped), index\u001b[38;5;241m=\u001b[39mobj\u001b[38;5;241m.\u001b[39mindex)\n",
      "File \u001b[1;32mc:\\Users\\divye\\miniconda3\\envs\\Recommender_system\\lib\\site-packages\\pandas\\core\\base.py:921\u001b[0m, in \u001b[0;36mIndexOpsMixin._map_values\u001b[1;34m(self, mapper, na_action, convert)\u001b[0m\n\u001b[0;32m    918\u001b[0m \u001b[38;5;28;01mif\u001b[39;00m \u001b[38;5;28misinstance\u001b[39m(arr, ExtensionArray):\n\u001b[0;32m    919\u001b[0m     \u001b[38;5;28;01mreturn\u001b[39;00m arr\u001b[38;5;241m.\u001b[39mmap(mapper, na_action\u001b[38;5;241m=\u001b[39mna_action)\n\u001b[1;32m--> 921\u001b[0m \u001b[38;5;28;01mreturn\u001b[39;00m \u001b[43malgorithms\u001b[49m\u001b[38;5;241;43m.\u001b[39;49m\u001b[43mmap_array\u001b[49m\u001b[43m(\u001b[49m\u001b[43marr\u001b[49m\u001b[43m,\u001b[49m\u001b[43m \u001b[49m\u001b[43mmapper\u001b[49m\u001b[43m,\u001b[49m\u001b[43m \u001b[49m\u001b[43mna_action\u001b[49m\u001b[38;5;241;43m=\u001b[39;49m\u001b[43mna_action\u001b[49m\u001b[43m,\u001b[49m\u001b[43m \u001b[49m\u001b[43mconvert\u001b[49m\u001b[38;5;241;43m=\u001b[39;49m\u001b[43mconvert\u001b[49m\u001b[43m)\u001b[49m\n",
      "File \u001b[1;32mc:\\Users\\divye\\miniconda3\\envs\\Recommender_system\\lib\\site-packages\\pandas\\core\\algorithms.py:1743\u001b[0m, in \u001b[0;36mmap_array\u001b[1;34m(arr, mapper, na_action, convert)\u001b[0m\n\u001b[0;32m   1741\u001b[0m values \u001b[38;5;241m=\u001b[39m arr\u001b[38;5;241m.\u001b[39mastype(\u001b[38;5;28mobject\u001b[39m, copy\u001b[38;5;241m=\u001b[39m\u001b[38;5;28;01mFalse\u001b[39;00m)\n\u001b[0;32m   1742\u001b[0m \u001b[38;5;28;01mif\u001b[39;00m na_action \u001b[38;5;129;01mis\u001b[39;00m \u001b[38;5;28;01mNone\u001b[39;00m:\n\u001b[1;32m-> 1743\u001b[0m     \u001b[38;5;28;01mreturn\u001b[39;00m \u001b[43mlib\u001b[49m\u001b[38;5;241;43m.\u001b[39;49m\u001b[43mmap_infer\u001b[49m\u001b[43m(\u001b[49m\u001b[43mvalues\u001b[49m\u001b[43m,\u001b[49m\u001b[43m \u001b[49m\u001b[43mmapper\u001b[49m\u001b[43m,\u001b[49m\u001b[43m \u001b[49m\u001b[43mconvert\u001b[49m\u001b[38;5;241;43m=\u001b[39;49m\u001b[43mconvert\u001b[49m\u001b[43m)\u001b[49m\n\u001b[0;32m   1744\u001b[0m \u001b[38;5;28;01melse\u001b[39;00m:\n\u001b[0;32m   1745\u001b[0m     \u001b[38;5;28;01mreturn\u001b[39;00m lib\u001b[38;5;241m.\u001b[39mmap_infer_mask(\n\u001b[0;32m   1746\u001b[0m         values, mapper, mask\u001b[38;5;241m=\u001b[39misna(values)\u001b[38;5;241m.\u001b[39mview(np\u001b[38;5;241m.\u001b[39muint8), convert\u001b[38;5;241m=\u001b[39mconvert\n\u001b[0;32m   1747\u001b[0m     )\n",
      "File \u001b[1;32mlib.pyx:2972\u001b[0m, in \u001b[0;36mpandas._libs.lib.map_infer\u001b[1;34m()\u001b[0m\n",
      "Cell \u001b[1;32mIn[73], line 3\u001b[0m, in \u001b[0;36m<lambda>\u001b[1;34m(x)\u001b[0m\n\u001b[0;32m      1\u001b[0m genres\u001b[38;5;241m=\u001b[39m{\u001b[38;5;124m'\u001b[39m\u001b[38;5;124maction\u001b[39m\u001b[38;5;124m'\u001b[39m:\u001b[38;5;241m28\u001b[39m,\u001b[38;5;124m'\u001b[39m\u001b[38;5;124madventure\u001b[39m\u001b[38;5;124m'\u001b[39m:\u001b[38;5;241m12\u001b[39m,\u001b[38;5;124m'\u001b[39m\u001b[38;5;124manimation\u001b[39m\u001b[38;5;124m'\u001b[39m:\u001b[38;5;241m16\u001b[39m,\u001b[38;5;124m'\u001b[39m\u001b[38;5;124mcomedy\u001b[39m\u001b[38;5;124m'\u001b[39m:\u001b[38;5;241m35\u001b[39m,\u001b[38;5;124m'\u001b[39m\u001b[38;5;124mcrime\u001b[39m\u001b[38;5;124m'\u001b[39m:\u001b[38;5;241m80\u001b[39m,\u001b[38;5;124m'\u001b[39m\u001b[38;5;124mdocumnetry\u001b[39m\u001b[38;5;124m'\u001b[39m:\u001b[38;5;241m99\u001b[39m,\u001b[38;5;124m'\u001b[39m\u001b[38;5;124mdrama\u001b[39m\u001b[38;5;124m'\u001b[39m:\u001b[38;5;241m18\u001b[39m,\u001b[38;5;124m'\u001b[39m\u001b[38;5;124mfamily\u001b[39m\u001b[38;5;124m'\u001b[39m:\u001b[38;5;241m17051\u001b[39m,\u001b[38;5;124m'\u001b[39m\u001b[38;5;124mfantasy\u001b[39m\u001b[38;5;124m'\u001b[39m:\u001b[38;5;241m14\u001b[39m,\u001b[38;5;124m'\u001b[39m\u001b[38;5;124mhistory\u001b[39m\u001b[38;5;124m'\u001b[39m:\u001b[38;5;241m36\u001b[39m,\n\u001b[0;32m      2\u001b[0m \u001b[38;5;124m'\u001b[39m\u001b[38;5;124mhorror\u001b[39m\u001b[38;5;124m'\u001b[39m:\u001b[38;5;241m27\u001b[39m,\u001b[38;5;124m'\u001b[39m\u001b[38;5;124mmusic\u001b[39m\u001b[38;5;124m'\u001b[39m:\u001b[38;5;241m10402\u001b[39m,\u001b[38;5;124m'\u001b[39m\u001b[38;5;124mmystery\u001b[39m\u001b[38;5;124m'\u001b[39m:\u001b[38;5;241m9648\u001b[39m,\u001b[38;5;124m'\u001b[39m\u001b[38;5;124mromance\u001b[39m\u001b[38;5;124m'\u001b[39m:\u001b[38;5;241m10749\u001b[39m,\u001b[38;5;124m'\u001b[39m\u001b[38;5;124mscinece fiction\u001b[39m\u001b[38;5;124m'\u001b[39m:\u001b[38;5;241m878\u001b[39m,\u001b[38;5;124m'\u001b[39m\u001b[38;5;124mtv movie\u001b[39m\u001b[38;5;124m'\u001b[39m:\u001b[38;5;241m10770\u001b[39m,\u001b[38;5;124m'\u001b[39m\u001b[38;5;124mthriller\u001b[39m\u001b[38;5;124m'\u001b[39m:\u001b[38;5;241m53\u001b[39m,\u001b[38;5;124m'\u001b[39m\u001b[38;5;124mwar\u001b[39m\u001b[38;5;124m'\u001b[39m:\u001b[38;5;241m10752\u001b[39m,\u001b[38;5;124m'\u001b[39m\u001b[38;5;124mwestern\u001b[39m\u001b[38;5;124m'\u001b[39m:\u001b[38;5;241m37\u001b[39m}\n\u001b[1;32m----> 3\u001b[0m df[\u001b[38;5;124m'\u001b[39m\u001b[38;5;124mGenre_Ids\u001b[39m\u001b[38;5;124m'\u001b[39m]\u001b[38;5;241m=\u001b[39mdf[\u001b[38;5;124m'\u001b[39m\u001b[38;5;124mGenre_Ids\u001b[39m\u001b[38;5;124m'\u001b[39m]\u001b[38;5;241m.\u001b[39mapply(\u001b[38;5;28;01mlambda\u001b[39;00m x: \u001b[43mre\u001b[49m\u001b[38;5;241;43m.\u001b[39;49m\u001b[43msub\u001b[49m\u001b[43m(\u001b[49m\u001b[38;5;124;43mr\u001b[39;49m\u001b[38;5;124;43m'\u001b[39;49m\u001b[38;5;124;43m(\u001b[39;49m\u001b[38;5;124;43m\\\u001b[39;49m\u001b[38;5;124;43md)\u001b[39;49m\u001b[38;5;124;43m\\\u001b[39;49m\u001b[38;5;124;43ms*(\u001b[39;49m\u001b[38;5;124;43m\\\u001b[39;49m\u001b[38;5;124;43md)\u001b[39;49m\u001b[38;5;124;43m'\u001b[39;49m\u001b[43m,\u001b[49m\u001b[43m \u001b[49m\u001b[38;5;124;43mr\u001b[39;49m\u001b[38;5;124;43m'\u001b[39;49m\u001b[38;5;124;43m\\\u001b[39;49m\u001b[38;5;124;43m1 \u001b[39;49m\u001b[38;5;124;43m\\\u001b[39;49m\u001b[38;5;124;43m2\u001b[39;49m\u001b[38;5;124;43m'\u001b[39;49m\u001b[43m,\u001b[49m\u001b[43m \u001b[49m\u001b[43mx\u001b[49m\u001b[43m)\u001b[49m)\n\u001b[0;32m      4\u001b[0m df\u001b[38;5;241m.\u001b[39mhead(\u001b[38;5;241m5\u001b[39m)\n",
      "File \u001b[1;32mc:\\Users\\divye\\miniconda3\\envs\\Recommender_system\\lib\\re.py:210\u001b[0m, in \u001b[0;36msub\u001b[1;34m(pattern, repl, string, count, flags)\u001b[0m\n\u001b[0;32m    203\u001b[0m \u001b[38;5;28;01mdef\u001b[39;00m \u001b[38;5;21msub\u001b[39m(pattern, repl, string, count\u001b[38;5;241m=\u001b[39m\u001b[38;5;241m0\u001b[39m, flags\u001b[38;5;241m=\u001b[39m\u001b[38;5;241m0\u001b[39m):\n\u001b[0;32m    204\u001b[0m \u001b[38;5;250m    \u001b[39m\u001b[38;5;124;03m\"\"\"Return the string obtained by replacing the leftmost\u001b[39;00m\n\u001b[0;32m    205\u001b[0m \u001b[38;5;124;03m    non-overlapping occurrences of the pattern in string by the\u001b[39;00m\n\u001b[0;32m    206\u001b[0m \u001b[38;5;124;03m    replacement repl.  repl can be either a string or a callable;\u001b[39;00m\n\u001b[0;32m    207\u001b[0m \u001b[38;5;124;03m    if a string, backslash escapes in it are processed.  If it is\u001b[39;00m\n\u001b[0;32m    208\u001b[0m \u001b[38;5;124;03m    a callable, it's passed the Match object and must return\u001b[39;00m\n\u001b[0;32m    209\u001b[0m \u001b[38;5;124;03m    a replacement string to be used.\"\"\"\u001b[39;00m\n\u001b[1;32m--> 210\u001b[0m     \u001b[38;5;28;01mreturn\u001b[39;00m \u001b[43m_compile\u001b[49m\u001b[43m(\u001b[49m\u001b[43mpattern\u001b[49m\u001b[43m,\u001b[49m\u001b[43m \u001b[49m\u001b[43mflags\u001b[49m\u001b[43m)\u001b[49m\u001b[38;5;241;43m.\u001b[39;49m\u001b[43msub\u001b[49m\u001b[43m(\u001b[49m\u001b[43mrepl\u001b[49m\u001b[43m,\u001b[49m\u001b[43m \u001b[49m\u001b[43mstring\u001b[49m\u001b[43m,\u001b[49m\u001b[43m \u001b[49m\u001b[43mcount\u001b[49m\u001b[43m)\u001b[49m\n",
      "\u001b[1;31mTypeError\u001b[0m: expected string or bytes-like object"
     ]
    }
   ],
   "source": [
    "genres={'action':28,'adventure':12,'animation':16,'comedy':35,'crime':80,'documnetry':99,'drama':18,'family':17051,'fantasy':14,'history':36,\n",
    "'horror':27,'music':10402,'mystery':9648,'romance':10749,'scinece fiction':878,'tv movie':10770,'thriller':53,'war':10752,'western':37}\n",
    "df['Genre_Ids']=df['Genre_Ids'].apply(lambda x: re.sub(r'(\\d)\\s*(\\d)', r'\\1 \\2', x))\n",
    "df.head(5)"
   ]
  }
 ],
 "metadata": {
  "kernelspec": {
   "display_name": "Recommender_system",
   "language": "python",
   "name": "python3"
  },
  "language_info": {
   "codemirror_mode": {
    "name": "ipython",
    "version": 3
   },
   "file_extension": ".py",
   "mimetype": "text/x-python",
   "name": "python",
   "nbconvert_exporter": "python",
   "pygments_lexer": "ipython3",
   "version": "3.9.15"
  }
 },
 "nbformat": 4,
 "nbformat_minor": 2
}
